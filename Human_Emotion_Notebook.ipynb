{
  "nbformat": 4,
  "nbformat_minor": 0,
  "metadata": {
    "colab": {
      "provenance": [],
      "gpuType": "T4"
    },
    "kernelspec": {
      "name": "python3",
      "display_name": "Python 3"
    },
    "language_info": {
      "name": "python"
    },
    "accelerator": "GPU"
  },
  "cells": [
    {
      "cell_type": "code",
      "execution_count": 1,
      "metadata": {
        "id": "93pLkHii0bJy"
      },
      "outputs": [],
      "source": [
        "import pandas as pd\n",
        "import os\n",
        "import tensorflow as tf\n",
        "import numpy as np\n",
        "from tensorflow import keras\n",
        "from tensorflow.keras import layers\n",
        "from sklearn.model_selection import train_test_split\n",
        "from keras.utils import np_utils\n",
        "from keras.optimizers import SGD\n",
        "from keras.utils import custom_object_scope\n",
        "import matplotlib.pyplot as plt\n",
        "from google.colab import files\n",
        "import zipfile\n",
        "import cv2 as cv"
      ]
    },
    {
      "cell_type": "code",
      "source": [
        "files.upload()"
      ],
      "metadata": {
        "colab": {
          "base_uri": "https://localhost:8080/",
          "height": 89
        },
        "id": "UpV8TE7w2ypU",
        "outputId": "b89a2f7e-e0e2-440e-9f55-40c4bfba6075"
      },
      "execution_count": 2,
      "outputs": [
        {
          "output_type": "display_data",
          "data": {
            "text/plain": [
              "<IPython.core.display.HTML object>"
            ],
            "text/html": [
              "\n",
              "     <input type=\"file\" id=\"files-6566c4f8-dc14-4386-a83a-3095d8855dd6\" name=\"files[]\" multiple disabled\n",
              "        style=\"border:none\" />\n",
              "     <output id=\"result-6566c4f8-dc14-4386-a83a-3095d8855dd6\">\n",
              "      Upload widget is only available when the cell has been executed in the\n",
              "      current browser session. Please rerun this cell to enable.\n",
              "      </output>\n",
              "      <script>// Copyright 2017 Google LLC\n",
              "//\n",
              "// Licensed under the Apache License, Version 2.0 (the \"License\");\n",
              "// you may not use this file except in compliance with the License.\n",
              "// You may obtain a copy of the License at\n",
              "//\n",
              "//      http://www.apache.org/licenses/LICENSE-2.0\n",
              "//\n",
              "// Unless required by applicable law or agreed to in writing, software\n",
              "// distributed under the License is distributed on an \"AS IS\" BASIS,\n",
              "// WITHOUT WARRANTIES OR CONDITIONS OF ANY KIND, either express or implied.\n",
              "// See the License for the specific language governing permissions and\n",
              "// limitations under the License.\n",
              "\n",
              "/**\n",
              " * @fileoverview Helpers for google.colab Python module.\n",
              " */\n",
              "(function(scope) {\n",
              "function span(text, styleAttributes = {}) {\n",
              "  const element = document.createElement('span');\n",
              "  element.textContent = text;\n",
              "  for (const key of Object.keys(styleAttributes)) {\n",
              "    element.style[key] = styleAttributes[key];\n",
              "  }\n",
              "  return element;\n",
              "}\n",
              "\n",
              "// Max number of bytes which will be uploaded at a time.\n",
              "const MAX_PAYLOAD_SIZE = 100 * 1024;\n",
              "\n",
              "function _uploadFiles(inputId, outputId) {\n",
              "  const steps = uploadFilesStep(inputId, outputId);\n",
              "  const outputElement = document.getElementById(outputId);\n",
              "  // Cache steps on the outputElement to make it available for the next call\n",
              "  // to uploadFilesContinue from Python.\n",
              "  outputElement.steps = steps;\n",
              "\n",
              "  return _uploadFilesContinue(outputId);\n",
              "}\n",
              "\n",
              "// This is roughly an async generator (not supported in the browser yet),\n",
              "// where there are multiple asynchronous steps and the Python side is going\n",
              "// to poll for completion of each step.\n",
              "// This uses a Promise to block the python side on completion of each step,\n",
              "// then passes the result of the previous step as the input to the next step.\n",
              "function _uploadFilesContinue(outputId) {\n",
              "  const outputElement = document.getElementById(outputId);\n",
              "  const steps = outputElement.steps;\n",
              "\n",
              "  const next = steps.next(outputElement.lastPromiseValue);\n",
              "  return Promise.resolve(next.value.promise).then((value) => {\n",
              "    // Cache the last promise value to make it available to the next\n",
              "    // step of the generator.\n",
              "    outputElement.lastPromiseValue = value;\n",
              "    return next.value.response;\n",
              "  });\n",
              "}\n",
              "\n",
              "/**\n",
              " * Generator function which is called between each async step of the upload\n",
              " * process.\n",
              " * @param {string} inputId Element ID of the input file picker element.\n",
              " * @param {string} outputId Element ID of the output display.\n",
              " * @return {!Iterable<!Object>} Iterable of next steps.\n",
              " */\n",
              "function* uploadFilesStep(inputId, outputId) {\n",
              "  const inputElement = document.getElementById(inputId);\n",
              "  inputElement.disabled = false;\n",
              "\n",
              "  const outputElement = document.getElementById(outputId);\n",
              "  outputElement.innerHTML = '';\n",
              "\n",
              "  const pickedPromise = new Promise((resolve) => {\n",
              "    inputElement.addEventListener('change', (e) => {\n",
              "      resolve(e.target.files);\n",
              "    });\n",
              "  });\n",
              "\n",
              "  const cancel = document.createElement('button');\n",
              "  inputElement.parentElement.appendChild(cancel);\n",
              "  cancel.textContent = 'Cancel upload';\n",
              "  const cancelPromise = new Promise((resolve) => {\n",
              "    cancel.onclick = () => {\n",
              "      resolve(null);\n",
              "    };\n",
              "  });\n",
              "\n",
              "  // Wait for the user to pick the files.\n",
              "  const files = yield {\n",
              "    promise: Promise.race([pickedPromise, cancelPromise]),\n",
              "    response: {\n",
              "      action: 'starting',\n",
              "    }\n",
              "  };\n",
              "\n",
              "  cancel.remove();\n",
              "\n",
              "  // Disable the input element since further picks are not allowed.\n",
              "  inputElement.disabled = true;\n",
              "\n",
              "  if (!files) {\n",
              "    return {\n",
              "      response: {\n",
              "        action: 'complete',\n",
              "      }\n",
              "    };\n",
              "  }\n",
              "\n",
              "  for (const file of files) {\n",
              "    const li = document.createElement('li');\n",
              "    li.append(span(file.name, {fontWeight: 'bold'}));\n",
              "    li.append(span(\n",
              "        `(${file.type || 'n/a'}) - ${file.size} bytes, ` +\n",
              "        `last modified: ${\n",
              "            file.lastModifiedDate ? file.lastModifiedDate.toLocaleDateString() :\n",
              "                                    'n/a'} - `));\n",
              "    const percent = span('0% done');\n",
              "    li.appendChild(percent);\n",
              "\n",
              "    outputElement.appendChild(li);\n",
              "\n",
              "    const fileDataPromise = new Promise((resolve) => {\n",
              "      const reader = new FileReader();\n",
              "      reader.onload = (e) => {\n",
              "        resolve(e.target.result);\n",
              "      };\n",
              "      reader.readAsArrayBuffer(file);\n",
              "    });\n",
              "    // Wait for the data to be ready.\n",
              "    let fileData = yield {\n",
              "      promise: fileDataPromise,\n",
              "      response: {\n",
              "        action: 'continue',\n",
              "      }\n",
              "    };\n",
              "\n",
              "    // Use a chunked sending to avoid message size limits. See b/62115660.\n",
              "    let position = 0;\n",
              "    do {\n",
              "      const length = Math.min(fileData.byteLength - position, MAX_PAYLOAD_SIZE);\n",
              "      const chunk = new Uint8Array(fileData, position, length);\n",
              "      position += length;\n",
              "\n",
              "      const base64 = btoa(String.fromCharCode.apply(null, chunk));\n",
              "      yield {\n",
              "        response: {\n",
              "          action: 'append',\n",
              "          file: file.name,\n",
              "          data: base64,\n",
              "        },\n",
              "      };\n",
              "\n",
              "      let percentDone = fileData.byteLength === 0 ?\n",
              "          100 :\n",
              "          Math.round((position / fileData.byteLength) * 100);\n",
              "      percent.textContent = `${percentDone}% done`;\n",
              "\n",
              "    } while (position < fileData.byteLength);\n",
              "  }\n",
              "\n",
              "  // All done.\n",
              "  yield {\n",
              "    response: {\n",
              "      action: 'complete',\n",
              "    }\n",
              "  };\n",
              "}\n",
              "\n",
              "scope.google = scope.google || {};\n",
              "scope.google.colab = scope.google.colab || {};\n",
              "scope.google.colab._files = {\n",
              "  _uploadFiles,\n",
              "  _uploadFilesContinue,\n",
              "};\n",
              "})(self);\n",
              "</script> "
            ]
          },
          "metadata": {}
        },
        {
          "output_type": "stream",
          "name": "stdout",
          "text": [
            "Saving kaggle.json to kaggle.json\n"
          ]
        },
        {
          "output_type": "execute_result",
          "data": {
            "text/plain": [
              "{'kaggle.json': b'{\"username\":\"mahanzabihi\",\"key\":\"5cbdd7df400346293033c10cda2794b2\"}'}"
            ]
          },
          "metadata": {},
          "execution_count": 2
        }
      ]
    },
    {
      "cell_type": "code",
      "source": [
        "!rm -r ~/.kaggle\n",
        "!mkdir ~/.kaggle\n",
        "!mv ./kaggle.json ~/.kaggle/\n",
        "!chmod 600 ~/.kaggle/kaggle.json"
      ],
      "metadata": {
        "id": "129hOogl20kz",
        "colab": {
          "base_uri": "https://localhost:8080/"
        },
        "outputId": "77415efd-41f5-4568-ce34-0f9e9d42fa27"
      },
      "execution_count": 3,
      "outputs": [
        {
          "output_type": "stream",
          "name": "stdout",
          "text": [
            "rm: cannot remove '/root/.kaggle': No such file or directory\n"
          ]
        }
      ]
    },
    {
      "cell_type": "code",
      "source": [
        "!kaggle datasets download -d ameyamote030/einterface-image-dataset"
      ],
      "metadata": {
        "colab": {
          "base_uri": "https://localhost:8080/"
        },
        "id": "yoim5spP3ZBt",
        "outputId": "d8a1ac74-e90f-4b34-deb2-308f59abe341"
      },
      "execution_count": 4,
      "outputs": [
        {
          "output_type": "stream",
          "name": "stdout",
          "text": [
            "Downloading einterface-image-dataset.zip to /content\n",
            "100% 799M/801M [00:38<00:00, 24.4MB/s]\n",
            "100% 801M/801M [00:38<00:00, 21.7MB/s]\n"
          ]
        }
      ]
    },
    {
      "cell_type": "code",
      "source": [
        "zip_ref = zipfile.ZipFile('einterface-image-dataset.zip', 'r')\n",
        "zip_ref.extractall('/content')\n",
        "zip_ref.close()"
      ],
      "metadata": {
        "id": "UaBLBTKo4GrL"
      },
      "execution_count": 5,
      "outputs": []
    },
    {
      "cell_type": "code",
      "source": [
        "train_path = '/content/eINTERFACE_2021_Image/train'\n",
        "test_path = '/content/eINTERFACE_2021_Image/test'\n",
        "valid_path = '/content/eINTERFACE_2021_Image/val'"
      ],
      "metadata": {
        "id": "fSCo1FGQ4dAT"
      },
      "execution_count": 6,
      "outputs": []
    },
    {
      "cell_type": "code",
      "source": [
        "categorys = {\"Anger\" : 0, \"Disgust\" : 1, \"Fear\" : 2, \"Happiness\" : 3, \"Sadness\" : 4, \"Surprise\" : 5}"
      ],
      "metadata": {
        "id": "Um5LBtbA4zr7"
      },
      "execution_count": 7,
      "outputs": []
    },
    {
      "cell_type": "code",
      "source": [
        "x_train = []\n",
        "y_train = []\n",
        "dim = 128\n",
        "\n",
        "for i in sorted(os.listdir(train_path)):\n",
        "  path = os.path.join(train_path, i)\n",
        "  for j in os.listdir(path):\n",
        "    img = cv.imread(os.path.join(path, j), 0)\n",
        "    img = cv.resize(img, (dim, dim))\n",
        "\n",
        "    x_train.append(img)\n",
        "    y_train.append(categorys[i])"
      ],
      "metadata": {
        "id": "JuYaU0Nm5X6j"
      },
      "execution_count": 8,
      "outputs": []
    },
    {
      "cell_type": "code",
      "source": [
        "x_test = []\n",
        "y_test = []\n",
        "\n",
        "for i in sorted(os.listdir(test_path)):\n",
        "  path = os.path.join(test_path, i)\n",
        "  for j in os.listdir(path):\n",
        "    img = cv.imread(os.path.join(path, j), 0)\n",
        "    img = cv.resize(img, (dim, dim))\n",
        "\n",
        "    x_test.append(img)\n",
        "    y_test.append(categorys[i])"
      ],
      "metadata": {
        "id": "hGmo-Ghl6diC"
      },
      "execution_count": 9,
      "outputs": []
    },
    {
      "cell_type": "code",
      "source": [
        "x_val = []\n",
        "y_val = []\n",
        "\n",
        "for i in sorted(os.listdir(valid_path)):\n",
        "  path = os.path.join(valid_path, i)\n",
        "  for j in os.listdir(path):\n",
        "    img = cv.imread(os.path.join(path, j), 0)\n",
        "    img = cv.resize(img, (dim, dim))\n",
        "\n",
        "    x_val.append(img)\n",
        "    y_val.append(categorys[i])"
      ],
      "metadata": {
        "id": "LlwaI-Bg7E0K"
      },
      "execution_count": 10,
      "outputs": []
    },
    {
      "cell_type": "code",
      "source": [
        "x_train = np.array(x_train, dtype = 'float') / 255.0\n",
        "x_test = np.array(x_test, dtype = 'float') / 255.0\n",
        "x_val = np.array(x_val, dtype = 'float') / 255.0"
      ],
      "metadata": {
        "id": "nSIrNozw78FD"
      },
      "execution_count": 11,
      "outputs": []
    },
    {
      "cell_type": "code",
      "source": [
        "x_val.shape"
      ],
      "metadata": {
        "colab": {
          "base_uri": "https://localhost:8080/"
        },
        "id": "J773YZPG8Rnz",
        "outputId": "ed434932-fdd4-4ba0-d404-329b66a87157"
      },
      "execution_count": 12,
      "outputs": [
        {
          "output_type": "execute_result",
          "data": {
            "text/plain": [
              "(1433, 128, 128)"
            ]
          },
          "metadata": {},
          "execution_count": 12
        }
      ]
    },
    {
      "cell_type": "code",
      "source": [
        "y_train = np.array(y_train)\n",
        "y_test = np.array(y_test)\n",
        "y_val = np.array(y_val)"
      ],
      "metadata": {
        "id": "eAo0N7Xn8TS7"
      },
      "execution_count": 13,
      "outputs": []
    },
    {
      "cell_type": "code",
      "source": [
        "y_train = np_utils.to_categorical(y_train)\n",
        "y_test = np_utils.to_categorical(y_test)\n",
        "y_val = np_utils.to_categorical(y_val)"
      ],
      "metadata": {
        "id": "hwAXiOXi8lXz"
      },
      "execution_count": 14,
      "outputs": []
    },
    {
      "cell_type": "code",
      "source": [
        "x_train_r = x_train.reshape(x_train.shape[0], dim, dim, 1)\n",
        "x_test_r = x_test.reshape(x_test.shape[0], dim, dim, 1)\n",
        "x_val_r = x_val.reshape(x_val.shape[0], dim, dim, 1)"
      ],
      "metadata": {
        "id": "PvQSHkzp86Cz"
      },
      "execution_count": 15,
      "outputs": []
    },
    {
      "cell_type": "code",
      "source": [
        "print(x_train_r.shape)\n",
        "print(x_test_r.shape)\n",
        "print(x_val_r.shape)"
      ],
      "metadata": {
        "colab": {
          "base_uri": "https://localhost:8080/"
        },
        "id": "1XhAUXS39R8j",
        "outputId": "99891d4f-4c08-4600-be18-0b03ed8020c7"
      },
      "execution_count": 16,
      "outputs": [
        {
          "output_type": "stream",
          "name": "stdout",
          "text": [
            "(11475, 128, 128, 1)\n",
            "(1438, 128, 128, 1)\n",
            "(1433, 128, 128, 1)\n"
          ]
        }
      ]
    },
    {
      "cell_type": "code",
      "source": [
        "def build_model():\n",
        "  model = tf.keras.Sequential()\n",
        "\n",
        "  model.add(layers.Conv2D(32, (3,3), input_shape = (dim, dim, 1), padding = 'same', activation = 'relu'))\n",
        "  model.add(layers.Dropout(0.2))\n",
        "  model.add(layers.Conv2D(32, (3,3), padding = 'same', activation = 'relu'))\n",
        "  model.add(layers.MaxPooling2D(pool_size = (2,2)))\n",
        "\n",
        "  model.add(layers.Conv2D(64, (3,3), padding = 'same', activation = 'relu'))\n",
        "  model.add(layers.Dropout(0.2))\n",
        "  model.add(layers.Conv2D(64, (3,3), padding = 'same', activation = 'relu'))\n",
        "  model.add(layers.MaxPooling2D(pool_size = (2,2)))\n",
        "\n",
        "  model.add(layers.Conv2D(128, (3,3), padding = 'same', activation = 'relu'))\n",
        "  model.add(layers.Dropout(0.2))\n",
        "  model.add(layers.Conv2D(128, (3,3), padding = 'same', activation = 'relu'))\n",
        "  model.add(layers.MaxPooling2D(pool_size = (2,2)))\n",
        "\n",
        "  model.add(layers.Flatten())\n",
        "\n",
        "  model.add(layers.Dense(1024, activation = 'relu'))\n",
        "  model.add(layers.Dropout(0.2))\n",
        "\n",
        "  model.add(layers.Dense(512, activation = 'relu'))\n",
        "  model.add(layers.Dropout(0.2))\n",
        "\n",
        "  model.add(layers.Dense(6, activation = 'softmax'))\n",
        "\n",
        "  model.summary()\n",
        "\n",
        "  return model"
      ],
      "metadata": {
        "id": "NLdbuh0U9X8r"
      },
      "execution_count": 17,
      "outputs": []
    },
    {
      "cell_type": "code",
      "source": [
        "model = build_model()"
      ],
      "metadata": {
        "colab": {
          "base_uri": "https://localhost:8080/"
        },
        "id": "5LkkZj0t_4vr",
        "outputId": "996a51bc-4a56-4024-82d9-cc5cbb32fa85"
      },
      "execution_count": 18,
      "outputs": [
        {
          "output_type": "stream",
          "name": "stdout",
          "text": [
            "Model: \"sequential\"\n",
            "_________________________________________________________________\n",
            " Layer (type)                Output Shape              Param #   \n",
            "=================================================================\n",
            " conv2d (Conv2D)             (None, 128, 128, 32)      320       \n",
            "                                                                 \n",
            " dropout (Dropout)           (None, 128, 128, 32)      0         \n",
            "                                                                 \n",
            " conv2d_1 (Conv2D)           (None, 128, 128, 32)      9248      \n",
            "                                                                 \n",
            " max_pooling2d (MaxPooling2D  (None, 64, 64, 32)       0         \n",
            " )                                                               \n",
            "                                                                 \n",
            " conv2d_2 (Conv2D)           (None, 64, 64, 64)        18496     \n",
            "                                                                 \n",
            " dropout_1 (Dropout)         (None, 64, 64, 64)        0         \n",
            "                                                                 \n",
            " conv2d_3 (Conv2D)           (None, 64, 64, 64)        36928     \n",
            "                                                                 \n",
            " max_pooling2d_1 (MaxPooling  (None, 32, 32, 64)       0         \n",
            " 2D)                                                             \n",
            "                                                                 \n",
            " conv2d_4 (Conv2D)           (None, 32, 32, 128)       73856     \n",
            "                                                                 \n",
            " dropout_2 (Dropout)         (None, 32, 32, 128)       0         \n",
            "                                                                 \n",
            " conv2d_5 (Conv2D)           (None, 32, 32, 128)       147584    \n",
            "                                                                 \n",
            " max_pooling2d_2 (MaxPooling  (None, 16, 16, 128)      0         \n",
            " 2D)                                                             \n",
            "                                                                 \n",
            " flatten (Flatten)           (None, 32768)             0         \n",
            "                                                                 \n",
            " dense (Dense)               (None, 1024)              33555456  \n",
            "                                                                 \n",
            " dropout_3 (Dropout)         (None, 1024)              0         \n",
            "                                                                 \n",
            " dense_1 (Dense)             (None, 512)               524800    \n",
            "                                                                 \n",
            " dropout_4 (Dropout)         (None, 512)               0         \n",
            "                                                                 \n",
            " dense_2 (Dense)             (None, 6)                 3078      \n",
            "                                                                 \n",
            "=================================================================\n",
            "Total params: 34,369,766\n",
            "Trainable params: 34,369,766\n",
            "Non-trainable params: 0\n",
            "_________________________________________________________________\n"
          ]
        }
      ]
    },
    {
      "cell_type": "code",
      "source": [
        "epochs = 50\n",
        "lr = 0.01\n",
        "deacy_rate = lr / epochs\n",
        "momentum = 0.8\n",
        "sgd = SGD(lr = lr, momentum=momentum, decay = deacy_rate)"
      ],
      "metadata": {
        "id": "VrybPa-n_6xr",
        "colab": {
          "base_uri": "https://localhost:8080/"
        },
        "outputId": "25e882ce-a40f-4708-d9e1-4e7dea886d3e"
      },
      "execution_count": 19,
      "outputs": [
        {
          "output_type": "stream",
          "name": "stderr",
          "text": [
            "/usr/local/lib/python3.10/dist-packages/keras/optimizers/legacy/gradient_descent.py:114: UserWarning: The `lr` argument is deprecated, use `learning_rate` instead.\n",
            "  super().__init__(name, **kwargs)\n"
          ]
        }
      ]
    },
    {
      "cell_type": "code",
      "source": [
        "callback = keras.callbacks.EarlyStopping(monitor = 'val_loss', patience = 3)"
      ],
      "metadata": {
        "id": "pEixADWCE1Jc"
      },
      "execution_count": 20,
      "outputs": []
    },
    {
      "cell_type": "code",
      "source": [
        "model.compile(loss = 'categorical_crossentropy', optimizer = sgd, metrics = ['accuracy'])"
      ],
      "metadata": {
        "id": "3cv014CLFRyc"
      },
      "execution_count": 21,
      "outputs": []
    },
    {
      "cell_type": "code",
      "source": [
        "model_h = model.fit(x_train_r, y_train, batch_size = 32, epochs = epochs,\n",
        "                    validation_data = (x_val_r, y_val), callbacks = [callback])"
      ],
      "metadata": {
        "id": "W1sdcooZF6od",
        "colab": {
          "base_uri": "https://localhost:8080/"
        },
        "outputId": "fe653ac0-538f-491c-a218-91f48e11ddb6"
      },
      "execution_count": 22,
      "outputs": [
        {
          "output_type": "stream",
          "name": "stdout",
          "text": [
            "Epoch 1/50\n",
            "359/359 [==============================] - 36s 69ms/step - loss: 1.5546 - accuracy: 0.3418 - val_loss: 1.3270 - val_accuracy: 0.4843\n",
            "Epoch 2/50\n",
            "359/359 [==============================] - 23s 63ms/step - loss: 1.1066 - accuracy: 0.5570 - val_loss: 1.0781 - val_accuracy: 0.6420\n",
            "Epoch 3/50\n",
            "359/359 [==============================] - 23s 64ms/step - loss: 0.8077 - accuracy: 0.6869 - val_loss: 0.6978 - val_accuracy: 0.7446\n",
            "Epoch 4/50\n",
            "359/359 [==============================] - 23s 64ms/step - loss: 0.5926 - accuracy: 0.7771 - val_loss: 0.5237 - val_accuracy: 0.8102\n",
            "Epoch 5/50\n",
            "359/359 [==============================] - 23s 63ms/step - loss: 0.4562 - accuracy: 0.8303 - val_loss: 0.4371 - val_accuracy: 0.8514\n",
            "Epoch 6/50\n",
            "359/359 [==============================] - 22s 63ms/step - loss: 0.3633 - accuracy: 0.8697 - val_loss: 0.3846 - val_accuracy: 0.8618\n",
            "Epoch 7/50\n",
            "359/359 [==============================] - 23s 63ms/step - loss: 0.2799 - accuracy: 0.8980 - val_loss: 0.2943 - val_accuracy: 0.9016\n",
            "Epoch 8/50\n",
            "359/359 [==============================] - 23s 64ms/step - loss: 0.2419 - accuracy: 0.9131 - val_loss: 0.2494 - val_accuracy: 0.9163\n",
            "Epoch 9/50\n",
            "359/359 [==============================] - 23s 63ms/step - loss: 0.2032 - accuracy: 0.9231 - val_loss: 0.2324 - val_accuracy: 0.9309\n",
            "Epoch 10/50\n",
            "359/359 [==============================] - 23s 64ms/step - loss: 0.1644 - accuracy: 0.9438 - val_loss: 0.1924 - val_accuracy: 0.9351\n",
            "Epoch 11/50\n",
            "359/359 [==============================] - 23s 64ms/step - loss: 0.1355 - accuracy: 0.9503 - val_loss: 0.2066 - val_accuracy: 0.9274\n",
            "Epoch 12/50\n",
            "359/359 [==============================] - 23s 63ms/step - loss: 0.1256 - accuracy: 0.9545 - val_loss: 0.1714 - val_accuracy: 0.9344\n",
            "Epoch 13/50\n",
            "359/359 [==============================] - 23s 64ms/step - loss: 0.0993 - accuracy: 0.9655 - val_loss: 0.1651 - val_accuracy: 0.9414\n",
            "Epoch 14/50\n",
            "359/359 [==============================] - 23s 64ms/step - loss: 0.0839 - accuracy: 0.9699 - val_loss: 0.1395 - val_accuracy: 0.9518\n",
            "Epoch 15/50\n",
            "359/359 [==============================] - 23s 63ms/step - loss: 0.0787 - accuracy: 0.9718 - val_loss: 0.1507 - val_accuracy: 0.9449\n",
            "Epoch 16/50\n",
            "359/359 [==============================] - 23s 64ms/step - loss: 0.0651 - accuracy: 0.9767 - val_loss: 0.1367 - val_accuracy: 0.9553\n",
            "Epoch 17/50\n",
            "359/359 [==============================] - 23s 63ms/step - loss: 0.0580 - accuracy: 0.9798 - val_loss: 0.1275 - val_accuracy: 0.9484\n",
            "Epoch 18/50\n",
            "359/359 [==============================] - 23s 63ms/step - loss: 0.0525 - accuracy: 0.9820 - val_loss: 0.1359 - val_accuracy: 0.9532\n",
            "Epoch 19/50\n",
            "359/359 [==============================] - 23s 64ms/step - loss: 0.0499 - accuracy: 0.9820 - val_loss: 0.1311 - val_accuracy: 0.9539\n",
            "Epoch 20/50\n",
            "359/359 [==============================] - 23s 63ms/step - loss: 0.0474 - accuracy: 0.9849 - val_loss: 0.1264 - val_accuracy: 0.9539\n",
            "Epoch 21/50\n",
            "359/359 [==============================] - 22s 63ms/step - loss: 0.0399 - accuracy: 0.9860 - val_loss: 0.1076 - val_accuracy: 0.9602\n",
            "Epoch 22/50\n",
            "359/359 [==============================] - 23s 63ms/step - loss: 0.0349 - accuracy: 0.9883 - val_loss: 0.1022 - val_accuracy: 0.9693\n",
            "Epoch 23/50\n",
            "359/359 [==============================] - 23s 63ms/step - loss: 0.0338 - accuracy: 0.9888 - val_loss: 0.1179 - val_accuracy: 0.9658\n",
            "Epoch 24/50\n",
            "359/359 [==============================] - 22s 63ms/step - loss: 0.0280 - accuracy: 0.9902 - val_loss: 0.1133 - val_accuracy: 0.9651\n",
            "Epoch 25/50\n",
            "359/359 [==============================] - 23s 64ms/step - loss: 0.0247 - accuracy: 0.9915 - val_loss: 0.1368 - val_accuracy: 0.9553\n"
          ]
        }
      ]
    },
    {
      "cell_type": "code",
      "source": [
        "model.save(\"human-emotions.h5\")"
      ],
      "metadata": {
        "id": "pkqw2o_pGRFs"
      },
      "execution_count": 27,
      "outputs": []
    },
    {
      "cell_type": "code",
      "source": [
        "pd.DataFrame(model_h.history).plot(figsize = (8, 8))\n",
        "plt.grid(True)\n",
        "plt.gca().set_ylim(0, 1)\n",
        "plt.show()"
      ],
      "metadata": {
        "colab": {
          "base_uri": "https://localhost:8080/",
          "height": 682
        },
        "id": "CJDsnzjSIqzU",
        "outputId": "a74f1efd-b82a-4335-f40e-80b1ab8f28ff"
      },
      "execution_count": 24,
      "outputs": [
        {
          "output_type": "display_data",
          "data": {
            "text/plain": [
              "<Figure size 800x800 with 1 Axes>"
            ],
            "image/png": "[encoded data removed]"
          },
          "metadata": {}
        }
      ]
    },
    {
      "cell_type": "code",
      "source": [
        "model.evaluate(x_test_r, y_test)"
      ],
      "metadata": {
        "colab": {
          "base_uri": "https://localhost:8080/"
        },
        "id": "r5xEKp4WKBjE",
        "outputId": "3a648feb-aba8-4be7-aa52-7222ea99340c"
      },
      "execution_count": 25,
      "outputs": [
        {
          "output_type": "stream",
          "name": "stdout",
          "text": [
            "45/45 [==============================] - 1s 25ms/step - loss: 0.1457 - accuracy: 0.9576\n"
          ]
        },
        {
          "output_type": "execute_result",
          "data": {
            "text/plain": [
              "[0.14571736752986908, 0.9575799703598022]"
            ]
          },
          "metadata": {},
          "execution_count": 25
        }
      ]
    },
    {
      "cell_type": "code",
      "source": [
        "from keras.models import load_model\n",
        "model = load_model(\"human-emotions.h5\")"
      ],
      "metadata": {
        "id": "giZCDcCOKsAV"
      },
      "execution_count": 28,
      "outputs": []
    },
    {
      "cell_type": "code",
      "source": [
        "from google.colab import drive\n",
        "drive.mount('/content/drive')"
      ],
      "metadata": {
        "colab": {
          "base_uri": "https://localhost:8080/"
        },
        "id": "Iv07ifWmOgog",
        "outputId": "17bf88bd-b29d-4b5c-dd96-bf485d190ba2"
      },
      "execution_count": 29,
      "outputs": [
        {
          "output_type": "stream",
          "name": "stdout",
          "text": [
            "Drive already mounted at /content/drive; to attempt to forcibly remount, call drive.mount(\"/content/drive\", force_remount=True).\n"
          ]
        }
      ]
    },
    {
      "cell_type": "code",
      "source": [
        "y_predicted = model.predict(x_test_r)\n",
        "y_predicted_labels = [np.argmax(i) for i in y_predicted]\n",
        "y_test_categorical = tf.argmax(y_test, axis=1)\n",
        "\n",
        "cm = tf.math.confusion_matrix(labels=y_test_categorical, predictions=y_predicted_labels)\n",
        "\n",
        "import seaborn as sn\n",
        "plt.figure(figsize = (10,7))\n",
        "sn.heatmap(cm, annot=True, fmt='d')\n",
        "plt.xlabel('Predicted')\n",
        "plt.ylabel('Truth')"
      ],
      "metadata": {
        "colab": {
          "base_uri": "https://localhost:8080/",
          "height": 654
        },
        "id": "7ehD4yH2K2j9",
        "outputId": "e9d254ec-cecb-4efa-92e6-c07264517ba0"
      },
      "execution_count": 30,
      "outputs": [
        {
          "output_type": "stream",
          "name": "stdout",
          "text": [
            "45/45 [==============================] - 1s 12ms/step\n"
          ]
        },
        {
          "output_type": "execute_result",
          "data": {
            "text/plain": [
              "Text(95.72222222222221, 0.5, 'Truth')"
            ]
          },
          "metadata": {},
          "execution_count": 30
        },
        {
          "output_type": "display_data",
          "data": {
            "text/plain": [
              "<Figure size 1000x700 with 2 Axes>"
            ],
            "image/png": "[encoded data removed]"
          },
          "metadata": {}
        }
      ]
    },
    {
      "cell_type": "code",
      "source": [],
      "metadata": {
        "id": "SzxEK_kCLsrk"
      },
      "execution_count": null,
      "outputs": []
    }
  ]
}